{
 "cells": [
  {
   "cell_type": "code",
   "execution_count": null,
   "metadata": {},
   "outputs": [],
   "source": [
    "####### USER INPUT\n",
    "import mdtraj as md\n",
    "\n",
    "top = '/Users/joshsmith/Git/plumitas/plumitas/data/topology/conf.gro'\n",
    "traj = md.load(top)\n",
    "topology = traj.top\n",
    "\n",
    "table, bonds = topology.to_dataframe()\n",
    "# sidechain_atoms = traj.topology.select('protein and not backbone')\n",
    "# sidechain_heavy = table.iloc[sidechain_atoms, :][table['element'] != 'H']\n",
    "\n",
    "plumed = {'header': {'restart': False,\n",
    "                     'wholemolecules': ['protein', 'resname ALA']},\n",
    "\n",
    "          'groups': {'sidechain_com': {'com': 'sidechain and resname ALA'}\n",
    "                     },\n",
    "\n",
    "          'collective_variables': {\n",
    "              'phi': {'torsion': {'angle': 'phi',\n",
    "                                  'resid': 2,\n",
    "                                  'atoms': '',\n",
    "                                  }\n",
    "                      },\n",
    "              'psi': {'torsion': {'atoms': '7,9,15,17',\n",
    "                                  'angle': 'psi',\n",
    "                                  'resid': 2,\n",
    "                                  },\n",
    "                      },\n",
    "          },\n",
    "\n",
    "          'bias': {'pbmetad': {'label': 'pbmetad',\n",
    "                               'arg': 'phi,psi',\n",
    "                               'temp': '300',\n",
    "                               'pace': '500',\n",
    "                               'biasfactor': '15',\n",
    "                               'height': '1.2',\n",
    "                               'sigma': '0.35,0.35',\n",
    "                               'grid_min': '-pi,-pi',\n",
    "                               'grid_max': 'pi,pi',\n",
    "                               'grid_spacing': '0.1,0.1',\n",
    "                               'file': 'HILLS_phi,HILLS_psi'\n",
    "                               }\n",
    "                   },\n",
    "\n",
    "          'footer': {'print': {'stride': '500',\n",
    "                               'arg': 'phi,psi,pbmetad.bias',\n",
    "                               'file': 'COLVAR'\n",
    "                               },\n",
    "                     }\n",
    "          }\n",
    "\n",
    "generate_input(topology, **plumed)\n"
   ]
  }
 ],
 "metadata": {
  "anaconda-cloud": {},
  "kernelspec": {
   "display_name": "plumitas_example",
   "language": "python",
   "name": "plumitas_example"
  },
  "language_info": {
   "codemirror_mode": {
    "name": "ipython",
    "version": 3
   },
   "file_extension": ".py",
   "mimetype": "text/x-python",
   "name": "python",
   "nbconvert_exporter": "python",
   "pygments_lexer": "ipython3",
   "version": "3.6.4"
  }
 },
 "nbformat": 4,
 "nbformat_minor": 2
}
