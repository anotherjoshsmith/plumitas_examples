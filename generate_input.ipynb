{
 "cells": [
  {
   "cell_type": "markdown",
   "metadata": {},
   "source": [
    "# Generating PLUMED input files from Python\n",
    "\n",
    "#### Motivation:\n",
    "The *setup process for a PLUMED project can be long and involved* my new users. For each atom group and collective variable, the user must manually pull atom numbers from a configuration file. Even for experts, complicated collective variables involving many unique virtual atoms or atom groups may require extensive consultation with the user manual and inflexible, hand-written automation scripts. Moving this process to **Python** will significantly **decrease the barrier to entry** for enhanced sampling simulations, **expedite** the setup process, and **enable** input sharing in the field.\n",
    "\n",
    "#### Strategy: \n",
    "I have added a `generate_input()` function to plumitas which takes an input configuration for your system and a dictionary which describes your desired enhanced sampling simulation. The topology is handled by `mdtraj` so that simple VMD-style selections can be converted to atom numbers for the final plumed.dat file. Requiring manual entry into the python dictionary isn't much better than manually hunting down atom numbers, so there is room for improvement... I envision this improvement coming in the form of an **interactive GUI** which will prevent erroneous user input and generate the input dictionary without free form text entry. The following procedure will then quickly get users from configuration to simulation."
   ]
  },
  {
   "cell_type": "markdown",
   "metadata": {},
   "source": [
    "#### Procedure:\n",
    "    1. import mdtraj and plumitas"
   ]
  },
  {
   "cell_type": "code",
   "execution_count": 1,
   "metadata": {},
   "outputs": [],
   "source": [
    "import mdtraj as md\n",
    "\n",
    "import plumitas as plm"
   ]
  },
  {
   "cell_type": "markdown",
   "metadata": {},
   "source": [
    "    2. load configuration into python w/ mdtraj"
   ]
  },
  {
   "cell_type": "code",
   "execution_count": 2,
   "metadata": {},
   "outputs": [],
   "source": [
    "top = 'data/topology/conf.gro'\n",
    "traj = md.load(top)\n",
    "topology = traj.top"
   ]
  },
  {
   "cell_type": "markdown",
   "metadata": {},
   "source": [
    "    3. build python dict/class describing enhanced sampling* \n",
    "                     *done w/ interactive GUI in the future!"
   ]
  },
  {
   "cell_type": "code",
   "execution_count": 3,
   "metadata": {},
   "outputs": [],
   "source": [
    "plumed = {'header': {'restart': False,\n",
    "                     'wholemolecules': ['protein', 'resname ALA']},\n",
    "\n",
    "          'groups': {'sidechain_com': {'com': 'sidechain and resname ALA'}\n",
    "                     },\n",
    "\n",
    "          'collective_variables': {\n",
    "              'phi': {'torsion': {'angle': 'phi',\n",
    "                                  'resid': 2,\n",
    "                                  'atoms': '',\n",
    "                                  }\n",
    "                      },\n",
    "              'psi': {'torsion': {'atoms': '7,9,15,17',\n",
    "                                  'angle': 'psi',\n",
    "                                  'resid': 2,\n",
    "                                  },\n",
    "                      },\n",
    "          },\n",
    "\n",
    "          'bias': {'pbmetad': {'label': 'pbmetad',\n",
    "                               'arg': 'phi,psi',\n",
    "                               'temp': '300',\n",
    "                               'pace': '500',\n",
    "                               'biasfactor': '15',\n",
    "                               'height': '1.2',\n",
    "                               'sigma': '0.35,0.35',\n",
    "                               'grid_min': '-pi,-pi',\n",
    "                               'grid_max': 'pi,pi',\n",
    "                               'grid_spacing': '0.1,0.1',\n",
    "                               'file': 'HILLS_phi,HILLS_psi'\n",
    "                               }\n",
    "                   },\n",
    "\n",
    "          'footer': {'print': {'stride': '500',\n",
    "                               'arg': 'phi,psi,pbmetad.bias',\n",
    "                               'file': 'COLVAR'\n",
    "                               },\n",
    "                     }\n",
    "          }\n"
   ]
  },
  {
   "cell_type": "markdown",
   "metadata": {},
   "source": [
    "    4. generate your PLUMED runfile"
   ]
  },
  {
   "cell_type": "code",
   "execution_count": 4,
   "metadata": {},
   "outputs": [],
   "source": [
    "plm.generate_input(topology, **plumed)"
   ]
  },
  {
   "cell_type": "markdown",
   "metadata": {},
   "source": [
    "### That's it!\n",
    "We can check out our new plumed.dat file below."
   ]
  },
  {
   "cell_type": "code",
   "execution_count": 5,
   "metadata": {},
   "outputs": [
    {
     "name": "stdout",
     "output_type": "stream",
     "text": [
      "WHOLEMOLECULES ENTITY0=0,1,2,3,4,5,6,7,8,9,10,11,12,13,14,15,16,17,18,19,20,21 ENTITY1=6,7,8,9,10,11,12,13,14,15 \n",
      "\n",
      "\n",
      "\n",
      "sidechain_com: COM ATOMS=7,9,10,11,12,13\n",
      "\n",
      "\n",
      "\n",
      "phi: TORSION 4,6,8,14\n",
      "\n",
      "psi: TORSION 7,9,15,17\n",
      "\n",
      "\n",
      "\n",
      "PBMETAD ...\n",
      "\n",
      "LABEL=pbmetad\n",
      "\n",
      "ARG=phi,psi\n",
      "\n",
      "TEMP=300\n",
      "\n",
      "PACE=500\n",
      "\n",
      "BIASFACTOR=15\n",
      "\n",
      "HEIGHT=1.2\n",
      "\n",
      "SIGMA=0.35,0.35\n",
      "\n",
      "GRID_MIN=-pi,-pi\n",
      "\n",
      "GRID_MAX=pi,pi\n",
      "\n",
      "GRID_SPACING=0.1,0.1\n",
      "\n",
      "FILE=HILLS_phi,HILLS_psi\n",
      "\n",
      "... PBMETAD\n",
      "\n",
      "\n",
      "\n",
      "PRINT STRIDE=500 ARG=phi,psi,pbmetad.bias FILE=COLVAR \n",
      "\n",
      "\n",
      "\n"
     ]
    }
   ],
   "source": [
    "with open('plumed.dat') as new_file:\n",
    "    for line in new_file:\n",
    "        print(line)"
   ]
  },
  {
   "cell_type": "code",
   "execution_count": null,
   "metadata": {},
   "outputs": [],
   "source": []
  }
 ],
 "metadata": {
  "anaconda-cloud": {},
  "kernelspec": {
   "display_name": "plumitas_example",
   "language": "python",
   "name": "plumitas_example"
  },
  "language_info": {
   "codemirror_mode": {
    "name": "ipython",
    "version": 3
   },
   "file_extension": ".py",
   "mimetype": "text/x-python",
   "name": "python",
   "nbconvert_exporter": "python",
   "pygments_lexer": "ipython3",
   "version": "3.6.4"
  }
 },
 "nbformat": 4,
 "nbformat_minor": 2
}
